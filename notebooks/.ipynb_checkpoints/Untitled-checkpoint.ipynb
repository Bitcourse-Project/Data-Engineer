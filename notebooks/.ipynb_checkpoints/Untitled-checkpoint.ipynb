{
 "cells": [
  {
   "cell_type": "code",
   "execution_count": 56,
   "id": "e5b878ab-9287-4a1f-97fc-a053d6c20055",
   "metadata": {},
   "outputs": [],
   "source": [
    "from pyspark.sql import functions as F\n",
    "from pyspark.sql import SparkSession\n",
    "from pyspark.sql.types import *\n",
    "from pyspark.sql.window import Window\n",
    "from pyspark.sql.functions import when, avg, abs\n",
    "from pyspark.sql.functions import expr\n"
   ]
  },
  {
   "cell_type": "code",
   "execution_count": 32,
   "id": "82171a82-590a-44f7-8418-292bcd193694",
   "metadata": {},
   "outputs": [],
   "source": [
    "\n",
    "#    .config(\"spark.jars.packages\", \"org.postgresql:postgresql:42.7.1\") \\\n",
    "\n",
    "spark = SparkSession.builder \\\n",
    "    .appName(\"binance\") \\\n",
    "    .getOrCreate()\n",
    "\n",
    "# schema = StructType([\n",
    "#     StructField(\"datetime\", TimestampType(), True),\n",
    "#     StructField(\"symbol\", StringType(), True),\n",
    "#     StructField(\"open\", DecimalType(18, 2), True),\n",
    "#     StructField(\"high\", DecimalType(18, 2), True),\n",
    "#     StructField(\"low\", DecimalType(18, 2), True),\n",
    "#     StructField(\"close\", DecimalType(18, 2), True),\n",
    "#     StructField(\"volume\", DecimalType(18, 2), True),\n",
    "#     StructField(\"QuoteAssetVolume\", DecimalType(18, 2), True),\n",
    "#     StructField(\"NumTrades\", IntegerType(), True),\n",
    "#     StructField(\"TakerBuyBaseAssetVolume\", DecimalType(18, 2), True),\n",
    "#     StructField(\"TakerBuyQuoteAssetVolume\", DecimalType(18, 2), True),\n",
    "#     StructField(\"Ignore\", StringType(), True)\n",
    "# ])\n"
   ]
  },
  {
   "cell_type": "code",
   "execution_count": 407,
   "id": "24f916c2-f56b-4ef1-994f-deb7d6623a92",
   "metadata": {},
   "outputs": [],
   "source": [
    "df = spark.read.csv(\"Btcusdt_kline_1d.csv\", header=True, inferSchema=True)\n"
   ]
  },
  {
   "cell_type": "code",
   "execution_count": 196,
   "id": "212d51c6-93fe-4104-b8cb-4b5349c55bb4",
   "metadata": {},
   "outputs": [],
   "source": [
    "def RSI(df, period=14):\n",
    "    \n",
    "    @pandas_udf(schema, PandasUDFType.GROUPED_MAP)\n",
    "    def ema(pdf):\n",
    "        pdf['ewm'] = pdf['count'].ewm(span=5, min_periods=1).mean()\n",
    "        return pdf\n",
    "    # 이전 행의 종가를 가져옴\n",
    "    df = df.orderBy(\"datetime\", ascending=True).limit(14)\n",
    "    df = df.withColumn(\"prev_close\", F.lag(df[\"close\"]).over(Window.orderBy(\"datetime\")))\n",
    "\n",
    "    df = df.withColumn(\"delta\", df[\"close\"] - df[\"prev_close\"])\n",
    "    \n",
    "    ups = when(df[\"delta\"] > 0, df[\"delta\"]).otherwise(0)\n",
    "    downs = when(df[\"delta\"] < 0, abs(df[\"delta\"])).otherwise(0)\n",
    "    df = df.withColumn(\"ups\", ups).withColumn(\"downs\", downs)\n",
    "    \n",
    "    windowSpec = Window.orderBy(F.monotonically_increasing_id())\n",
    "\n",
    "    # 행의 개수 계산\n",
    "    total_rows = df.count()\n",
    "    \n",
    "    # 가중치 계산\n",
    "    df = df.withColumn(\"weighted_ups\", F.row_number().over(windowSpec) / period  * F.col(\"ups\"))\n",
    "    df = df.withColumn(\"weighted_downs\", F.row_number().over(windowSpec) / period  * F.col(\"downs\"))\n",
    "\n",
    "\n",
    "    # 가중치를 더하여 새로운 컬럼에 할당\n",
    "    df.select(\"datetime\",\"ups\",\"weighted_ups\",\"downs\",\"weighted_downs\").show()\n",
    "    AU = df.agg(F.avg(\"weighted_ups\")).collect()[0][0]\n",
    "    AD = df.agg(F.avg(\"weighted_downs\")).collect()[0][0]\n",
    "    print(AU,AD)\n",
    "    # RSI 계산\n",
    "    rsi = 100 - (100 / (1 + (AU / AD)))\n",
    "    print(rsi)\n",
    "    \n",
    "    return rsi"
   ]
  },
  {
   "cell_type": "code",
   "execution_count": 197,
   "id": "d14e0271-163d-4a61-9630-4fcd551e3edb",
   "metadata": {},
   "outputs": [
    {
     "name": "stdout",
     "output_type": "stream",
     "text": [
      "+-------------------+------------------+------------------+------------------+------------------+\n",
      "|           datetime|               ups|      weighted_ups|             downs|    weighted_downs|\n",
      "+-------------------+------------------+------------------+------------------+------------------+\n",
      "|2017-08-17 00:00:00|               0.0|               0.0|               0.0|               0.0|\n",
      "|2017-08-18 00:00:00|               0.0|               0.0|176.71000000000004|25.244285714285716|\n",
      "|2017-08-19 00:00:00|31.609999999999673| 6.773571428571358|               0.0|               0.0|\n",
      "|2017-08-20 00:00:00|               0.0|               0.0|  53.6899999999996|15.339999999999884|\n",
      "|2017-08-21 00:00:00|               0.0|               0.0| 70.28999999999996|25.103571428571417|\n",
      "|2017-08-22 00:00:00|              24.0|10.285714285714285|               0.0|               0.0|\n",
      "|2017-08-23 00:00:00| 74.01000000000022| 37.00500000000011|               0.0|               0.0|\n",
      "|2017-08-24 00:00:00|             202.0|115.42857142857142|               0.0|               0.0|\n",
      "|2017-08-25 00:00:00|               0.0|               0.0| 35.32999999999993|22.712142857142812|\n",
      "|2017-08-26 00:00:00| 56.75999999999931| 40.54285714285665|               0.0|               0.0|\n",
      "|2017-08-27 00:00:00|               0.0|               0.0| 27.42999999999938| 21.55214285714237|\n",
      "|2017-08-28 00:00:00| 76.67999999999938| 65.72571428571375|               0.0|               0.0|\n",
      "|2017-08-29 00:00:00|200.78999999999996|186.44785714285712|               0.0|               0.0|\n",
      "|2017-08-30 00:00:00|               0.0|               0.0|32.339999999999236|32.339999999999236|\n",
      "+-------------------+------------------+------------------+------------------+------------------+\n",
      "\n",
      "33.014948979591765 10.163724489795815\n",
      "76.4612396047748\n"
     ]
    },
    {
     "data": {
      "text/plain": [
       "76.4612396047748"
      ]
     },
     "execution_count": 197,
     "metadata": {},
     "output_type": "execute_result"
    }
   ],
   "source": [
    "RSI(df)"
   ]
  },
  {
   "cell_type": "code",
   "execution_count": 411,
   "id": "23d647d3-d5fd-45b7-82e1-4a4101916e67",
   "metadata": {},
   "outputs": [],
   "source": [
    "from pyspark.sql.functions import col, lag, when, collect_list, lit\n",
    "from pyspark.sql.window import Window\n",
    "from pyspark.sql.functions import udf\n",
    "from pyspark.sql.types import DoubleType\n",
    "from pyspark.sql.functions import pandas_udf\n",
    "\n",
    "\n",
    "def RSI2(df, period=14):\n",
    "\n",
    "\n",
    "    df.orderBy(\"datetime\", ascending=True)\n",
    "    windowSpec = Window.orderBy(\"datetime\")\n",
    "    df = df.withColumn(\"prev_close\", lag(\"close\", 1).over(windowSpec))\n",
    "\n",
    "    df = df.withColumn(\"delta\", col(\"close\") - col(\"prev_close\"))\n",
    "    df = df.withColumn(\"up\", when(col(\"delta\") > 0, col(\"delta\")).otherwise(0))\n",
    "    df = df.withColumn(\"down\", when(col(\"delta\") < 0, -col(\"delta\")).otherwise(0))\n",
    "\n",
    "\n",
    "   # EWMA 계산\n",
    "\n",
    "    df = df.withColumn(\"up_ewma\", F.avg(\"up\").over(Window.orderBy(\"datetime\").rowsBetween(-period+1, 0)))\n",
    "    df = df.withColumn(\"down_ewma\", F.avg(\"down\").over(Window.orderBy(\"datetime\").rowsBetween(-period+1, 0)))\n",
    "    df = df.withColumn(\"rsi\", 100 - (100 / (1 + (df[\"up_ewma\"] / df[\"down_ewma\"]))))\n",
    "\n",
    "\n",
    "    return df"
   ]
  },
  {
   "cell_type": "code",
   "execution_count": 412,
   "id": "c189ebed-cd6d-4eda-8144-e7947ad39fcd",
   "metadata": {},
   "outputs": [
    {
     "name": "stdout",
     "output_type": "stream",
     "text": [
      "+-------------------+--------+------------------+-----------------+-----------------+\n",
      "|           datetime|   close|                up|             down|              rsi|\n",
      "+-------------------+--------+------------------+-----------------+-----------------+\n",
      "|2024-03-14 00:00:00|73012.75|               0.0|59.66000000000349|75.72044397090468|\n",
      "|2024-03-13 00:00:00|73072.41|1620.4000000000087|              0.0|71.85822804780895|\n",
      "|2024-03-12 00:00:00|71452.01|               0.0|626.0900000000111|75.63635277140384|\n",
      "|2024-03-11 00:00:00| 72078.1| 3122.220000000001|              0.0|79.28869018796605|\n",
      "|2024-03-10 00:00:00|68955.88| 642.6100000000006|              0.0|79.02723301378214|\n",
      "|2024-03-09 00:00:00|68313.27|189.08000000000175|              0.0| 78.6809573741784|\n",
      "|2024-03-08 00:00:00|68124.19| 1301.020000000004|              0.0|79.13482183208993|\n",
      "|2024-03-07 00:00:00|66823.17| 749.1300000000047|              0.0|76.71939998974895|\n",
      "|2024-03-06 00:00:00|66074.04|2350.0299999999916|              0.0|74.62545023701605|\n",
      "|2024-03-05 00:00:00|63724.01|               0.0|4521.700000000004|71.27800660767198|\n",
      "|2024-03-04 00:00:00|68245.71| 5131.740000000005|              0.0|85.95687178546792|\n",
      "|2024-03-03 00:00:00|63113.97|1126.6900000000023|              0.0|80.26275158533227|\n",
      "|2024-03-02 00:00:00|61987.28|               0.0|400.6200000000026|79.55047436660664|\n",
      "|2024-03-01 00:00:00| 62387.9|1256.9199999999983|              0.0|79.18471081124582|\n",
      "+-------------------+--------+------------------+-----------------+-----------------+\n",
      "\n"
     ]
    }
   ],
   "source": [
    "rsi_df = RSI2(df)\n",
    "rsi_df = rsi_df.orderBy(\"datetime\", ascending=False).limit(14)\n",
    "\n",
    "rsi_df.select(\"datetime\", \"close\",\"up\",\"down\",\"rsi\").show()\n"
   ]
  },
  {
   "cell_type": "code",
   "execution_count": null,
   "id": "38123a14-5ae0-4998-a7cc-690d85ad1e3c",
   "metadata": {},
   "outputs": [],
   "source": []
  },
  {
   "cell_type": "code",
   "execution_count": null,
   "id": "87046770-f215-4596-93af-9453b9e48a93",
   "metadata": {},
   "outputs": [],
   "source": []
  },
  {
   "cell_type": "code",
   "execution_count": null,
   "id": "924847d5-f1d1-4765-8dd9-0325306bbe6e",
   "metadata": {},
   "outputs": [],
   "source": []
  },
  {
   "cell_type": "code",
   "execution_count": null,
   "id": "84777fef-5470-4559-8c42-1b68ee2639cf",
   "metadata": {},
   "outputs": [],
   "source": []
  },
  {
   "cell_type": "code",
   "execution_count": null,
   "id": "2ead83b0-7244-4337-a800-b23ea1d231ef",
   "metadata": {},
   "outputs": [],
   "source": []
  }
 ],
 "metadata": {
  "kernelspec": {
   "display_name": "Python 3 (ipykernel)",
   "language": "python",
   "name": "python3"
  },
  "language_info": {
   "codemirror_mode": {
    "name": "ipython",
    "version": 3
   },
   "file_extension": ".py",
   "mimetype": "text/x-python",
   "name": "python",
   "nbconvert_exporter": "python",
   "pygments_lexer": "ipython3",
   "version": "3.8.13"
  }
 },
 "nbformat": 4,
 "nbformat_minor": 5
}
