{
 "cells": [
  {
   "cell_type": "code",
   "execution_count": 1,
   "id": "2bba56fe-05bd-41aa-aff1-8519d4062398",
   "metadata": {},
   "outputs": [],
   "source": [
    "from pyspark.sql.functions import *\n",
    "from pyspark.sql.types import *\n",
    "from pyspark.sql import *\n",
    "from pyspark.sql.functions import udf\n",
    "from pyspark.sql.functions import col, pandas_udf, split\n",
    "from pyspark.sql import SparkSession\n",
    "\n",
    "topic = 'coin'\n",
    "kafka_bootstrap_servers = 'kafka-div:9092'\n",
    "\n",
    "\n",
    "spark = SparkSession.builder.appName(\"kafka-ex\")\\\n",
    "        .config(\"spark.jars.packages\", \"org.apache.spark:spark-sql-kafka-0-10_2.12:3.3.0\") \\\n",
    "        .getOrCreate()\n",
    "\n",
    "spark.sparkContext.setLogLevel(\"ERROR\")"
   ]
  },
  {
   "cell_type": "code",
   "execution_count": 6,
   "id": "dbc10db8-4301-4a87-b94f-f73d5728d531",
   "metadata": {},
   "outputs": [],
   "source": [
    "from kafka import KafkaProducer\n",
    "from pyspark.sql.functions import col, to_json\n",
    "from pyspark.sql.types import StringType\n",
    "import json\n",
    "\n",
    "producer = KafkaProducer(bootstrap_servers=[kafka_bootstrap_servers])\n"
   ]
  },
  {
   "cell_type": "code",
   "execution_count": 26,
   "id": "a8924614-215c-4619-bcdf-86640834f8a5",
   "metadata": {},
   "outputs": [],
   "source": [
    "data = [(\"2024-03-29 12:00:00\", 0), (\"2024-03-29 13:00:00\", 1)]\n",
    "df = spark.createDataFrame(data, [\"timestamp\", \"check\"])\n",
    "df = df.withColumn(\"timestamp\", col(\"timestamp\").cast(StringType()))\n"
   ]
  },
  {
   "cell_type": "code",
   "execution_count": 27,
   "id": "97849b7f-441b-4fe1-bbcb-8caddc736cf0",
   "metadata": {},
   "outputs": [
    {
     "name": "stdout",
     "output_type": "stream",
     "text": [
      "+-------------------+-----+\n",
      "|          timestamp|check|\n",
      "+-------------------+-----+\n",
      "|2024-03-29 12:00:00|    0|\n",
      "|2024-03-29 13:00:00|    1|\n",
      "+-------------------+-----+\n",
      "\n"
     ]
    }
   ],
   "source": [
    "df.show()"
   ]
  },
  {
   "cell_type": "code",
   "execution_count": 41,
   "id": "8a17100a-ec30-4f9a-bb63-52708e5b6577",
   "metadata": {},
   "outputs": [
    {
     "data": {
      "text/plain": [
       "['{\"timestamp\":\"2024-03-29 12:00:00\",\"check\":0}',\n",
       " '{\"timestamp\":\"2024-03-29 13:00:00\",\"check\":1}']"
      ]
     },
     "execution_count": 41,
     "metadata": {},
     "output_type": "execute_result"
    }
   ],
   "source": [
    "json_strings = df.toJSON().collect()\n",
    "\n",
    "for row in json_strings:\n",
    "    print(row)\n",
    "    producer.send(topic, row.encode('utf-8'))\n"
   ]
  },
  {
   "cell_type": "code",
   "execution_count": 46,
   "id": "5df923a7-eccd-4a5a-b321-24ea5bb88346",
   "metadata": {},
   "outputs": [],
   "source": [
    "\n"
   ]
  },
  {
   "cell_type": "code",
   "execution_count": null,
   "id": "1cb1f505-b386-4a78-af94-eb44e35cc480",
   "metadata": {},
   "outputs": [],
   "source": []
  }
 ],
 "metadata": {
  "kernelspec": {
   "display_name": "Python 3 (ipykernel)",
   "language": "python",
   "name": "python3"
  },
  "language_info": {
   "codemirror_mode": {
    "name": "ipython",
    "version": 3
   },
   "file_extension": ".py",
   "mimetype": "text/x-python",
   "name": "python",
   "nbconvert_exporter": "python",
   "pygments_lexer": "ipython3",
   "version": "3.8.13"
  }
 },
 "nbformat": 4,
 "nbformat_minor": 5
}
