{
 "cells": [
  {
   "cell_type": "code",
   "execution_count": 1,
   "id": "e5b878ab-9287-4a1f-97fc-a053d6c20055",
   "metadata": {},
   "outputs": [],
   "source": [
    "from pyspark.sql import functions as F\n",
    "from pyspark.sql import SparkSession\n",
    "from pyspark.sql.types import *\n",
    "from pyspark.sql.window import Window\n",
    "from pyspark.sql.functions import when, avg, abs\n",
    "from pyspark.sql.functions import expr\n"
   ]
  },
  {
   "cell_type": "code",
   "execution_count": 2,
   "id": "82171a82-590a-44f7-8418-292bcd193694",
   "metadata": {},
   "outputs": [],
   "source": [
    "\n",
    "#    .config(\"spark.jars.packages\", \"org.postgresql:postgresql:42.7.1\") \\\n",
    "\n",
    "spark = SparkSession.builder \\\n",
    "    .appName(\"binance\") \\\n",
    "    .getOrCreate()\n",
    "\n",
    "# schema = StructType([\n",
    "#     StructField(\"datetime\", TimestampType(), True),\n",
    "#     StructField(\"symbol\", StringType(), True),\n",
    "#     StructField(\"open\", DecimalType(18, 2), True),\n",
    "#     StructField(\"high\", DecimalType(18, 2), True),\n",
    "#     StructField(\"low\", DecimalType(18, 2), True),\n",
    "#     StructField(\"close\", DecimalType(18, 2), True),\n",
    "#     StructField(\"volume\", DecimalType(18, 2), True),\n",
    "#     StructField(\"QuoteAssetVolume\", DecimalType(18, 2), True),\n",
    "#     StructField(\"NumTrades\", IntegerType(), True),\n",
    "#     StructField(\"TakerBuyBaseAssetVolume\", DecimalType(18, 2), True),\n",
    "#     StructField(\"TakerBuyQuoteAssetVolume\", DecimalType(18, 2), True),\n",
    "#     StructField(\"Ignore\", StringType(), True)\n",
    "# ])\n"
   ]
  },
  {
   "cell_type": "code",
   "execution_count": 3,
   "id": "24f916c2-f56b-4ef1-994f-deb7d6623a92",
   "metadata": {},
   "outputs": [],
   "source": [
    "df = spark.read.csv(\"Btcusdt_kline_1d.csv\", header=True, inferSchema=True)\n"
   ]
  },
  {
   "cell_type": "code",
   "execution_count": 56,
   "id": "23d647d3-d5fd-45b7-82e1-4a4101916e67",
   "metadata": {},
   "outputs": [],
   "source": [
    "from pyspark.sql.functions import col, lag, when, collect_list, lit\n",
    "from pyspark.sql.window import Window\n",
    "from pyspark.sql.functions import udf\n",
    "from pyspark.sql.types import DoubleType\n",
    "from pyspark.sql.functions import pandas_udf\n",
    "\n",
    "\n",
    "def calculate_ewma(values, com):\n",
    "    alpha = 1 / (com + 1)\n",
    "    ewma = values[0]\n",
    "    for value in values[1:]:\n",
    "        ewma = (1 - alpha) * ewma + alpha * value\n",
    "    return ewma\n",
    "ewma_udf = udf(calculate_ewma, FloatType())\n",
    "\n",
    "\n",
    "def RSI(df, period=14, com=13):\n",
    "\n",
    "\n",
    "    df.orderBy(\"datetime\", ascending=True)\n",
    "    windowSpec = Window.orderBy(\"datetime\")\n",
    "    df = df.withColumn(\"prev_close\", lag(\"close\", 1).over(windowSpec))\n",
    "\n",
    "    df = df.withColumn(\"delta\", col(\"close\") - col(\"prev_close\"))\n",
    "    df = df.withColumn(\"up\", when(col(\"delta\") > 0, col(\"delta\")).otherwise(0))\n",
    "    df = df.withColumn(\"down\", when(col(\"delta\") < 0, -col(\"delta\")).otherwise(0))\n",
    "\n",
    "    df = df.withColumn(\"up_ewma\", ewma_udf(collect_list(\"up\").over(windowSpec), lit(com)))\n",
    "    df = df.withColumn(\"down_ewma\", ewma_udf(collect_list(\"down\").over(windowSpec), lit(com)))\n",
    "    \n",
    "    # 상대적 강도 지수(RSI) 계산\n",
    "    df = df.withColumn(\"rs\", df.up_ewma / df.down_ewma)\n",
    "    df = df.withColumn(\"rsi\", 100 - (100 / (1 + df.rs)))\n",
    "\n",
    "    return df"
   ]
  },
  {
   "cell_type": "code",
   "execution_count": 58,
   "id": "c189ebed-cd6d-4eda-8144-e7947ad39fcd",
   "metadata": {},
   "outputs": [
    {
     "name": "stdout",
     "output_type": "stream",
     "text": [
      "+-------------------+-------+------------------+\n",
      "|           datetime|  close|               rsi|\n",
      "+-------------------+-------+------------------+\n",
      "|2017-08-17 00:00:00|4285.08|              null|\n",
      "|2017-08-18 00:00:00|4108.37|               0.0|\n",
      "|2017-08-19 00:00:00|4139.98|16.152450629360672|\n",
      "|2017-08-20 00:00:00|4086.29|12.468550188819037|\n",
      "|2017-08-21 00:00:00| 4016.0| 9.434760862987048|\n",
      "|2017-08-22 00:00:00| 4040.0|16.872115811978958|\n",
      "|2017-08-23 00:00:00|4114.01| 34.68498035621067|\n",
      "|2017-08-24 00:00:00|4316.01| 59.92559160664987|\n",
      "|2017-08-25 00:00:00|4280.68|  55.8596435087892|\n",
      "|2017-08-26 00:00:00|4337.44|60.496929443124365|\n",
      "|2017-08-27 00:00:00|4310.01|57.360682328967464|\n",
      "|2017-08-28 00:00:00|4386.69| 63.11699366870879|\n",
      "|2017-08-29 00:00:00|4587.48| 73.28666385820368|\n",
      "|2017-08-30 00:00:00|4555.14| 69.94164254302801|\n",
      "+-------------------+-------+------------------+\n",
      "\n"
     ]
    }
   ],
   "source": [
    "rsi_df = RSI(df)\n",
    "rsi_df = rsi_df.orderBy(\"datetime\", ascending=True).limit(14)\n",
    "\n",
    "rsi_df.select(\"datetime\", \"close\",\"rsi\").show()\n"
   ]
  },
  {
   "cell_type": "code",
   "execution_count": null,
   "id": "38123a14-5ae0-4998-a7cc-690d85ad1e3c",
   "metadata": {},
   "outputs": [],
   "source": []
  },
  {
   "cell_type": "code",
   "execution_count": null,
   "id": "87046770-f215-4596-93af-9453b9e48a93",
   "metadata": {},
   "outputs": [],
   "source": []
  },
  {
   "cell_type": "code",
   "execution_count": null,
   "id": "924847d5-f1d1-4765-8dd9-0325306bbe6e",
   "metadata": {},
   "outputs": [],
   "source": []
  },
  {
   "cell_type": "code",
   "execution_count": null,
   "id": "84777fef-5470-4559-8c42-1b68ee2639cf",
   "metadata": {},
   "outputs": [],
   "source": []
  },
  {
   "cell_type": "code",
   "execution_count": null,
   "id": "2ead83b0-7244-4337-a800-b23ea1d231ef",
   "metadata": {},
   "outputs": [],
   "source": []
  }
 ],
 "metadata": {
  "kernelspec": {
   "display_name": "Python 3 (ipykernel)",
   "language": "python",
   "name": "python3"
  },
  "language_info": {
   "codemirror_mode": {
    "name": "ipython",
    "version": 3
   },
   "file_extension": ".py",
   "mimetype": "text/x-python",
   "name": "python",
   "nbconvert_exporter": "python",
   "pygments_lexer": "ipython3",
   "version": "3.8.13"
  }
 },
 "nbformat": 4,
 "nbformat_minor": 5
}
