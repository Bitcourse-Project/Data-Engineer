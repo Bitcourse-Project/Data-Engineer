{
 "cells": [
  {
   "cell_type": "code",
   "execution_count": 1,
   "id": "e5b878ab-9287-4a1f-97fc-a053d6c20055",
   "metadata": {},
   "outputs": [],
   "source": [
    "from pyspark.sql import SparkSession\n",
    "import pyspark.sql.functions as F\n",
    "from pyspark.sql.window import Window\n",
    "import pyspark.sql.types as T"
   ]
  },
  {
   "cell_type": "code",
   "execution_count": 2,
   "id": "82171a82-590a-44f7-8418-292bcd193694",
   "metadata": {},
   "outputs": [],
   "source": [
    "spark = SparkSession.builder \\\n",
    "    .appName(\"binance\") \\\n",
    "    .getOrCreate()"
   ]
  },
  {
   "cell_type": "code",
   "execution_count": 79,
   "id": "24f916c2-f56b-4ef1-994f-deb7d6623a92",
   "metadata": {},
   "outputs": [
    {
     "data": {
      "text/plain": [
       "2372"
      ]
     },
     "execution_count": 79,
     "metadata": {},
     "output_type": "execute_result"
    }
   ],
   "source": [
    "df = spark.read.csv(\"Btcusdt_kline_1d_new.csv\", header=True, inferSchema=True)\n",
    "#df = df.orderBy(\"datetime\", ascending=False).limit(20).orderBy(\"datetime\")\n",
    "df = df.filter(F.col(\"datetime\") <= \"2024-02-13\")\n",
    "\n",
    "df.count()"
   ]
  },
  {
   "cell_type": "code",
   "execution_count": 80,
   "id": "23d647d3-d5fd-45b7-82e1-4a4101916e67",
   "metadata": {},
   "outputs": [],
   "source": [
    "def calculate_ewma(values, com):\n",
    "    alpha = 1 / (com + 1)\n",
    "    ewma = values[0]\n",
    "    for value in values[1:]:\n",
    "        ewma = (1 - alpha) * ewma + alpha * value\n",
    "    return ewma\n",
    "ewma_udf = F.udf(calculate_ewma, T.DoubleType())\n",
    "\n",
    "\n",
    "def RSI(df, period=14, com=13):\n",
    "\n",
    "    df.orderBy(\"datetime\", ascending=True)\n",
    "    windowSpec = Window.orderBy(\"datetime\")\n",
    "    df = df.withColumn(\"prev_close\", F.lag(\"close\", 1).over(windowSpec))\n",
    "\n",
    "    df = df.withColumn(\"delta\", F.col(\"close\") - F.col(\"prev_close\"))\n",
    "    df = df.withColumn(\"up\", F.when(F.col(\"delta\") > 0, F.col(\"delta\")).otherwise(0))\n",
    "    df = df.withColumn(\"down\", F.when(F.col(\"delta\") < 0, -F.col(\"delta\")).otherwise(0))\n",
    "\n",
    "    df = df.withColumn(\"up_ewma\", ewma_udf(F.collect_list(\"up\").over(windowSpec), F.lit(com)))\n",
    "    df = df.withColumn(\"down_ewma\", ewma_udf(F.collect_list(\"down\").over(windowSpec), F.lit(com)))\n",
    "    \n",
    "    df = df.withColumn(\"rs\", df.up_ewma / df.down_ewma)\n",
    "    df = df.withColumn(\"rsi\", 100 - (100 / (1 + df.rs)))\n",
    "\n",
    "    return df"
   ]
  },
  {
   "cell_type": "code",
   "execution_count": 81,
   "id": "c189ebed-cd6d-4eda-8144-e7947ad39fcd",
   "metadata": {},
   "outputs": [
    {
     "name": "stdout",
     "output_type": "stream",
     "text": [
      "+-------------------+--------+--------+------------------+------------------+------------------+\n",
      "|           datetime|     low|   close|           up_ewma|         down_ewma|               rsi|\n",
      "+-------------------+--------+--------+------------------+------------------+------------------+\n",
      "|2024-02-13 00:00:00|48300.95|49699.59| 557.0490267578268| 167.7666321028352| 76.85388966809194|\n",
      "|2024-02-12 00:00:00|47710.01|49917.27| 599.8989518930442| 163.9271422645917| 78.53868262442982|\n",
      "|2024-02-11 00:00:00|47557.16|48299.99| 521.6388712694323|176.53692243879107| 74.71454552998037|\n",
      "|2024-02-10 00:00:00| 46800.0|47751.09| 519.5418613670809|190.11668570331344| 73.21011823388145|\n",
      "|2024-02-09 00:00:00|45242.12|47132.77| 511.9435430107025|204.74104614202986| 71.43219636073442|\n",
      "|2024-02-08 00:00:00| 44331.1|45288.65| 409.4684309346031|220.49035738372444| 64.99924098649015|\n",
      "|2024-02-07 00:00:00| 42788.0| 44349.6| 368.7313871603415| 237.4511541055494| 60.82844061960607|\n",
      "|2024-02-06 00:00:00| 42574.0|43098.95|300.89149386498303|255.71662749828394|54.058049517500294|\n",
      "|2024-02-05 00:00:00| 42258.1| 42708.7| 294.0177626238279|275.38713730584425| 51.63597339259679|\n",
      "|2024-02-04 00:00:00| 42222.0|42582.88|306.95605205643005|296.57076325244765| 50.86038337821554|\n",
      "|2024-02-03 00:00:00| 42880.0|43011.09| 330.5680560607708| 286.4446681180206| 53.57556547974565|\n",
      "|2024-02-02 00:00:00|42546.79| 43200.0| 355.9963680654455| 293.9473348963296| 54.77341598098114|\n",
      "|2024-02-01 00:00:00|41884.28|43082.94|374.37608868586454| 316.5586683498934| 54.18399999039119|\n",
      "|2024-01-31 00:00:00|42276.84| 42580.0|364.48655704631545|340.90933514603904| 51.67120493337429|\n",
      "|2024-01-30 00:00:00|42683.99| 42941.1|392.52398451141664|339.35620708034986| 53.63227329021108|\n",
      "|2024-01-29 00:00:00|41804.88| 43302.7|  422.718137166141|337.64514608653076| 55.59423324043779|\n",
      "|2024-01-28 00:00:00|41620.81|42031.06| 357.4164554096903| 363.6178496316485| 49.56996538315867|\n",
      "|2024-01-27 00:00:00|41394.34|42120.63|384.91002890274336| 384.6984534494676|  50.0137456549744|\n",
      "|2024-01-26 00:00:00|39822.52|41823.51| 391.6631080491086| 414.2906421763497|48.596226264788065|\n",
      "|2024-01-25 00:00:00| 39550.0|39961.09| 278.5279625144242|  446.159153112992| 38.43423686003877|\n",
      "+-------------------+--------+--------+------------------+------------------+------------------+\n",
      "only showing top 20 rows\n",
      "\n"
     ]
    }
   ],
   "source": [
    "rsi_df = RSI(df)\n",
    "rsi_df = rsi_df.orderBy(\"datetime\", ascending =False).limit(30)\n",
    "#rsi_df.select(\"datetime\", \"close\",\"up_ewma\",\"down_ewma\",\"rsi\").orderBy(\"datetime\").show()\n",
    "rsi_df.select(\"datetime\",\"low\", \"close\",\"up_ewma\",\"down_ewma\",\"rsi\").show()\n"
   ]
  },
  {
   "cell_type": "markdown",
   "id": "6791b3c5-cc60-4a3f-96d7-a80ef277d40c",
   "metadata": {},
   "source": [
    "# 상승 다이버전스 샘플"
   ]
  },
  {
   "cell_type": "code",
   "execution_count": 82,
   "id": "ca2e62ea-e961-40cb-a01c-a6f10fd3f483",
   "metadata": {},
   "outputs": [
    {
     "name": "stdout",
     "output_type": "stream",
     "text": [
      "+--------+---+-----+-------+---------+---+\n",
      "|datetime|low|close|up_ewma|down_ewma|rsi|\n",
      "+--------+---+-----+-------+---------+---+\n",
      "+--------+---+-----+-------+---------+---+\n",
      "\n",
      "+--------+---+-----+-------+---------+---+\n",
      "|datetime|low|close|up_ewma|down_ewma|rsi|\n",
      "+--------+---+-----+-------+---------+---+\n",
      "+--------+---+-----+-------+---------+---+\n",
      "\n",
      "False\n"
     ]
    }
   ],
   "source": [
    "def diversions(df):\n",
    "    last_row = df.limit(1)\n",
    "    last_row_rsi = last_row.select(\"rsi\").collect()[0][\"rsi\"]\n",
    "    last_row_low = last_row.select(\"low\").collect()[0][\"low\"]\n",
    "\n",
    "    # 현재 행 중복제거 할 것.\n",
    "    df = df.filter(F.col(\"rsi\") <= 30)\n",
    "    df.select(\"datetime\",\"low\", \"close\",\"up_ewma\",\"down_ewma\",\"rsi\").orderBy(\"datetime\").show()\n",
    "\n",
    "    df = df.filter((F.col(\"rsi\") <= last_row_rsi) & (F.col(\"low\") > last_row_low))\n",
    "\n",
    "    df.select(\"datetime\",\"low\", \"close\",\"up_ewma\",\"down_ewma\",\"rsi\").orderBy(\"datetime\").show()\n",
    "    if df.count() > 0:\n",
    "        return True\n",
    "    \n",
    "    return False\n",
    "\n",
    "print(diversions(rsi_df))\n",
    "    \n",
    "#res.select(\"datetime\",\"low\", \"close\",\"up_ewma\",\"down_ewma\",\"rsi\").orderBy(\"datetime\").show()"
   ]
  },
  {
   "cell_type": "code",
   "execution_count": 74,
   "id": "924847d5-f1d1-4765-8dd9-0325306bbe6e",
   "metadata": {},
   "outputs": [
    {
     "data": {
      "text/plain": [
       "70817.01"
      ]
     },
     "execution_count": 74,
     "metadata": {},
     "output_type": "execute_result"
    }
   ],
   "source": [
    "last_row_rsi"
   ]
  },
  {
   "cell_type": "code",
   "execution_count": 21,
   "id": "84777fef-5470-4559-8c42-1b68ee2639cf",
   "metadata": {},
   "outputs": [
    {
     "data": {
      "text/plain": [
       "70606.0"
      ]
     },
     "execution_count": 21,
     "metadata": {},
     "output_type": "execute_result"
    }
   ],
   "source": [
    "last_row_low"
   ]
  },
  {
   "cell_type": "markdown",
   "id": "1e4013d5-f7c0-40db-8c82-db1cdf2b28b3",
   "metadata": {},
   "source": [
    "# 하락 다이버전스 테스트"
   ]
  },
  {
   "cell_type": "code",
   "execution_count": 85,
   "id": "72adff8d-a548-48ff-afa0-b33ba0631052",
   "metadata": {},
   "outputs": [
    {
     "name": "stdout",
     "output_type": "stream",
     "text": [
      "+-------------------+--------+--------+-----------------+------------------+-----------------+\n",
      "|           datetime|    high|   close|          up_ewma|         down_ewma|              rsi|\n",
      "+-------------------+--------+--------+-----------------+------------------+-----------------+\n",
      "|2024-02-09 00:00:00| 48200.0|47132.77|511.9435430107025|204.74104614202986|71.43219636073442|\n",
      "|2024-02-10 00:00:00| 48170.0|47751.09|519.5418613670809|190.11668570331344|73.21011823388145|\n",
      "|2024-02-11 00:00:00|48592.66|48299.99|521.6388712694323|176.53692243879107|74.71454552998037|\n",
      "|2024-02-12 00:00:00|50334.82|49917.27|599.8989518930442| 163.9271422645917|78.53868262442982|\n",
      "|2024-02-13 00:00:00|50368.61|49699.59|557.0490267578268| 167.7666321028352|76.85388966809194|\n",
      "+-------------------+--------+--------+-----------------+------------------+-----------------+\n",
      "\n"
     ]
    }
   ],
   "source": [
    "df_except_last = rsi_df.limit(29)\n",
    "last_row = rsi_df.limit(1)\n",
    "last_row_rsi = last_row.select(\"rsi\").collect()[0][\"rsi\"]\n",
    "last_row_high = last_row.select(\"high\").collect()[0][\"high\"]\n",
    "\n",
    "filtered_df = df_except_last.filter(F.col(\"rsi\") >= 70)\n",
    "filtered_df.select(\"datetime\",\"high\", \"close\",\"up_ewma\",\"down_ewma\",\"rsi\").orderBy(\"datetime\").show()"
   ]
  },
  {
   "cell_type": "code",
   "execution_count": 33,
   "id": "bf742dbb-8c2d-4199-8e0b-8379bddf792e",
   "metadata": {},
   "outputs": [
    {
     "data": {
      "text/plain": [
       "60.088240336589045"
      ]
     },
     "execution_count": 33,
     "metadata": {},
     "output_type": "execute_result"
    }
   ],
   "source": [
    "last_row_rsi"
   ]
  },
  {
   "cell_type": "code",
   "execution_count": 32,
   "id": "c72223b7-e4b7-43ca-850e-10f7db945ba1",
   "metadata": {},
   "outputs": [
    {
     "data": {
      "text/plain": [
       "70900.0"
      ]
     },
     "execution_count": 32,
     "metadata": {},
     "output_type": "execute_result"
    }
   ],
   "source": [
    "last_row_high"
   ]
  },
  {
   "cell_type": "markdown",
   "id": "56d40f89-ceec-4adb-8ba8-95cb59394708",
   "metadata": {},
   "source": [
    "29일 위의 데이터 중에서 다이버전스가 뜨기 위해 만족해야하는 조건을 충족한 로우"
   ]
  },
  {
   "cell_type": "code",
   "execution_count": 84,
   "id": "3c568e86-7062-4107-941f-54b729794a91",
   "metadata": {},
   "outputs": [
    {
     "name": "stdout",
     "output_type": "stream",
     "text": [
      "+-------------------+--------+--------+-----------------+-----------------+-----------------+\n",
      "|           datetime|    high|   close|          up_ewma|        down_ewma|              rsi|\n",
      "+-------------------+--------+--------+-----------------+-----------------+-----------------+\n",
      "|2024-02-12 00:00:00|50334.82|49917.27|599.8989518930442|163.9271422645917|78.53868262442982|\n",
      "+-------------------+--------+--------+-----------------+-----------------+-----------------+\n",
      "\n"
     ]
    }
   ],
   "source": [
    "filtered_df = filtered_df.filter((F.col(\"rsi\") >= last_row_rsi) & (F.col(\"high\") < last_row_high))\n",
    "filtered_df.select(\"datetime\",\"high\", \"close\",\"up_ewma\",\"down_ewma\",\"rsi\").orderBy(\"datetime\").show()"
   ]
  },
  {
   "cell_type": "markdown",
   "id": "f83e7dcf-c092-42e3-95df-57c2c894953b",
   "metadata": {},
   "source": [
    "# 변동률 체크"
   ]
  },
  {
   "cell_type": "code",
   "execution_count": 86,
   "id": "1625d0b9-c30d-4d8c-957e-5baf975272a3",
   "metadata": {},
   "outputs": [],
   "source": [
    "last_row_close = last_row.select(\"close\").head()[0]\n",
    "\n",
    "t = filtered_df.limit(1)\n",
    "div_close = t.select(\"high\").collect()[0][\"high\"]\n"
   ]
  },
  {
   "cell_type": "code",
   "execution_count": 87,
   "id": "e4d6cf98-db9f-47cc-b665-5722cbedccb5",
   "metadata": {},
   "outputs": [
    {
     "data": {
      "text/plain": [
       "1.3461278050784806"
      ]
     },
     "execution_count": 87,
     "metadata": {},
     "output_type": "execute_result"
    }
   ],
   "source": [
    "def pc(a,b):\n",
    "    return abs(((b-a)/a) * 100)\n",
    "pc(last_row_close, div_close)"
   ]
  },
  {
   "cell_type": "markdown",
   "id": "054c8f9f-8893-4220-a240-8d157bf3715b",
   "metadata": {},
   "source": []
  },
  {
   "cell_type": "code",
   "execution_count": null,
   "id": "ecc28e66-092b-4571-bd60-968bf869a7fb",
   "metadata": {},
   "outputs": [],
   "source": []
  },
  {
   "cell_type": "code",
   "execution_count": null,
   "id": "2e1de3dd-f901-4f4d-9829-433a66bbd1a1",
   "metadata": {},
   "outputs": [],
   "source": [
    "#크리티컬 이슈 없으면, 시행착오포함해서 좀 더 시간 이번주안으로 다이버전스는 끝날 거\n",
    "#-> 실제로 파이프라인돌릴때 오류가 테스트기간? 좀 있긴해야죠"
   ]
  }
 ],
 "metadata": {
  "kernelspec": {
   "display_name": "Python 3 (ipykernel)",
   "language": "python",
   "name": "python3"
  },
  "language_info": {
   "codemirror_mode": {
    "name": "ipython",
    "version": 3
   },
   "file_extension": ".py",
   "mimetype": "text/x-python",
   "name": "python",
   "nbconvert_exporter": "python",
   "pygments_lexer": "ipython3",
   "version": "3.8.13"
  }
 },
 "nbformat": 4,
 "nbformat_minor": 5
}
